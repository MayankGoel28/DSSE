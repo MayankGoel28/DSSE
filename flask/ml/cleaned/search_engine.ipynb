{
 "cells": [
  {
   "cell_type": "code",
   "execution_count": 1,
   "metadata": {},
   "outputs": [],
   "source": [
    "import os\n",
    "from nltk.corpus import wordnet as wn\n",
    "from nltk.corpus import stopwords"
   ]
  },
  {
   "cell_type": "code",
   "execution_count": 2,
   "metadata": {},
   "outputs": [],
   "source": [
    "\n",
    "def best_file(keyword):\n",
    "    top = os.getcwd()\n",
    "    dir_names = []\n",
    "    for subdir, dirs, files in os.walk(r'./'):\n",
    "        for diry in dirs:\n",
    "            dir_names.append(diry)\n",
    "    dir_names = dir_names[1:]\n",
    "    synkey = wn.synsets(keyword)[0]\n",
    "    most_similar_score = 0\n",
    "    for name in dir_names:\n",
    "        try:\n",
    "            synname = wn.synsets(name)[0]\n",
    "            x = synkey.path_similarity(synname)\n",
    "            if x>most_similar_score:\n",
    "                most_similar_score = x\n",
    "                category = name\n",
    "        except:\n",
    "            continue\n",
    "    most_similar_score = 0\n",
    "    subcats = []\n",
    "    for subdir, dirs, files in os.walk(r'./'):\n",
    "        for file in files:\n",
    "            if category in file and file.endswith('.json'):\n",
    "                subcats.append(file.split('_')[2].split('.')[0])\n",
    "    print(subcats)\n",
    "    most_similar_score = 0\n",
    "    for name in subcats:\n",
    "        try:\n",
    "            synname = wn.synsets(name)[0]\n",
    "            x = synkey.path_similarity(synname)\n",
    "            if x>most_similar_score:\n",
    "                most_similar_score = x\n",
    "                sub_category = name\n",
    "        except:\n",
    "            continue\n",
    "            \n",
    "    return (category,sub_category)\n",
    "                "
   ]
  },
  {
   "cell_type": "code",
   "execution_count": 3,
   "metadata": {},
   "outputs": [
    {
     "name": "stdout",
     "output_type": "stream",
     "text": [
      "['arts', 'boys', 'disney', 'eighties', 'electronics', 'girls', 'musical', 'puzzles']\n"
     ]
    }
   ],
   "source": [
    "cat, subcat = best_file('dog')"
   ]
  },
  {
   "cell_type": "code",
   "execution_count": 4,
   "metadata": {},
   "outputs": [],
   "source": [
    "def best_object(word,cat, subcat):\n",
    "    stopwordsy = stopwords.words('english')\n",
    "    file = open(f'{cat}/clean_{cat}_{subcat}.json','r')\n",
    "    f = file.read()\n",
    "    data = eval(f)\n",
    "    try:\n",
    "        synkey = wn.synsets(word)[0]\n",
    "    except:\n",
    "        print(\"We can't identify this word.\")\n",
    "    max_sim_score = 0\n",
    "    max_score = 0\n",
    "    min_score = data[0]['relevancy_score']\n",
    "    for things in data:\n",
    "        max_score = max(max_score, things['relevancy_score'])\n",
    "        min_score = min(min_score, things['relevancy_score'])\n",
    "    for things in data:\n",
    "        sem_score, totes = 0,0\n",
    "        for tag in things['tags']:\n",
    "            if tag in stopwordsy or not tag.isalpha():\n",
    "                continue\n",
    "            else:\n",
    "                try:\n",
    "                    synword = wn.synsets(word)[0]\n",
    "                    x = synkey.path_similarity(synword)\n",
    "                    sem_score += x\n",
    "                    totes += 1\n",
    "                except:\n",
    "                    continue\n",
    "        try:\n",
    "            avg_score = sem_score/totes\n",
    "        except:\n",
    "            continue\n",
    "        avg_score = avg_score * (things['relevancy_score']-min_score/max_score)\n",
    "        if avg_score > max_sim_score:\n",
    "            buy_this = things\n",
    "            max_sim_score = avg_score\n",
    "    return buy_this"
   ]
  },
  {
   "cell_type": "code",
   "execution_count": 5,
   "metadata": {},
   "outputs": [
    {
     "data": {
      "text/plain": [
       "{'title': '12 Volt Yamaha Raptor Battery Powered Ride-on Black/Green - New Custom Graphic Design!',\n",
       " 'tags': 'Ride Ons for Girls ATVs All Powered 12V Dirt Bikes & Toys age 2-4 girls Toddler Girl',\n",
       " 'relevancy_score': 4536.3695026655205,\n",
       " 'price': '$199.00'}"
      ]
     },
     "execution_count": 5,
     "metadata": {},
     "output_type": "execute_result"
    }
   ],
   "source": [
    "best_object('dog','toys','girls')"
   ]
  },
  {
   "cell_type": "code",
   "execution_count": null,
   "metadata": {},
   "outputs": [],
   "source": []
  }
 ],
 "metadata": {
  "kernelspec": {
   "display_name": "Python 3",
   "language": "python",
   "name": "python3"
  },
  "language_info": {
   "codemirror_mode": {
    "name": "ipython",
    "version": 3
   },
   "file_extension": ".py",
   "mimetype": "text/x-python",
   "name": "python",
   "nbconvert_exporter": "python",
   "pygments_lexer": "ipython3",
   "version": "3.8.5"
  }
 },
 "nbformat": 4,
 "nbformat_minor": 4
}
